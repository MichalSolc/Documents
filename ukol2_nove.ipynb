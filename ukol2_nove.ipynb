{
  "cells": [
    {
      "cell_type": "markdown",
      "metadata": {
        "id": "view-in-github",
        "colab_type": "text"
      },
      "source": [
        "<a href=\"https://colab.research.google.com/github/MichalSolc/Documents/blob/main/ukol2_nove.ipynb\" target=\"_parent\"><img src=\"https://colab.research.google.com/assets/colab-badge.svg\" alt=\"Open In Colab\"/></a>"
      ]
    },
    {
      "cell_type": "code",
      "execution_count": null,
      "metadata": {
        "id": "SSE0ta7k2c8U",
        "colab": {
          "base_uri": "https://localhost:8080/",
          "height": 106
        },
        "outputId": "2bf5f949-f6fb-4723-a95f-2fbf0b1aade6"
      },
      "outputs": [
        {
          "output_type": "error",
          "ename": "IndentationError",
          "evalue": "unindent does not match any outer indentation level (<tokenize>, line 25)",
          "traceback": [
            "\u001b[0;36m  File \u001b[0;32m\"<tokenize>\"\u001b[0;36m, line \u001b[0;32m25\u001b[0m\n\u001b[0;31m    elif len(vloz_cislo) != 4:\u001b[0m\n\u001b[0m    ^\u001b[0m\n\u001b[0;31mIndentationError\u001b[0m\u001b[0;31m:\u001b[0m unindent does not match any outer indentation level\n"
          ]
        }
      ],
      "source": [
        "import random\n",
        "print(\n",
        "    f\"Hi there!\", \"\\n\", \"-\"*47, \"\\n\",\n",
        "      \"I've generated a random 4 digit number for you. \", \"\\n\",\n",
        "      \"Let's play a bulls and cows game.\", \"\\n\", 47*\"-\", \"\\n\",\n",
        "      \"Enter a number:\", \"\\n\", 47*\"-\", sep=\"\"\n",
        "      )     # program pozdraví uživatele a vypíše úvodní text\n",
        "\n",
        "def vyber_cislo(number): # funkce vytvoří tajné 4místné číslo (číslice musí být unikátní a nesmí začínat 0)\n",
        "  number = str(random.randint(1000,9999)) # vybere náhodně číslo - 4místné, které nezačíná 0\n",
        "  print(number)\n",
        "  while True:\n",
        "    if len(set(number)) < 4:  # počet číslic v čísle + set - množina bez duplicitních hodnot je menší než 4 číslice\n",
        "      number = str(random.randint(1000,9999))\n",
        "      print(number)\n",
        "      continue\n",
        "    else:\n",
        "     break\n",
        "    return number\n",
        "\n",
        "# hráč hádá číslo. Program jej upozorní, pokud zadá číslo kratší nebo delší než 4 čísla, pokud bude obsahovat duplicity, začínat nulou, příp. obsahovat nečíselné znaky,\n",
        "vloz_cislo = input(\">>>\")\n",
        "if vloz_cislo.isdigit() == False:\n",
        "elif len(vloz_cislo) != 4:\n",
        "  print(\"zadej správné číslo\")\n",
        "elif len(set(vloz_cislo)) < 4:\n",
        "  print(\"zadej správné číslo\")\n",
        "elif vloz_cislo[0] == \"0\":\n",
        "  print(\"zadej správné číslo\")\n",
        "else:\n",
        "  print(\"vpořádku\")\n",
        "#bulls = 0\n",
        "#cows = 0\n",
        "#while True:\n",
        " # guess = input()\n",
        " # for i in range(4):\n",
        "   # if guess[i] == number[i]:\n",
        "    #  bulls += 1\n",
        "   # elif guess[i] in number:\n",
        "    #  cows += 1\n",
        "#print(cows, bulls)\n",
        "\n"
      ]
    }
  ],
  "metadata": {
    "colab": {
      "provenance": [],
      "authorship_tag": "ABX9TyPfXh1knaw0CWywkns4+7db",
      "include_colab_link": true
    },
    "kernelspec": {
      "display_name": "Python 3",
      "name": "python3"
    },
    "language_info": {
      "name": "python"
    }
  },
  "nbformat": 4,
  "nbformat_minor": 0
}